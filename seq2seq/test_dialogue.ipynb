{
 "cells": [
  {
   "cell_type": "markdown",
   "metadata": {},
   "source": [
    "# 対話の検証\n",
    "前回のレクチャーで構築し、訓練したモデルにより対話文を生成します。"
   ]
  },
  {
   "cell_type": "markdown",
   "metadata": {},
   "source": [
    "## 文字の読み込み\n",
    "使用する文字を読み込みます。"
   ]
  },
  {
   "cell_type": "code",
   "execution_count": 2,
   "metadata": {},
   "outputs": [
    {
     "output_type": "error",
     "ename": "FileNotFoundError",
     "evalue": "[Errno 2] No such file or directory: 'kana_chars.pickle'",
     "traceback": [
      "\u001b[0;31m---------------------------------------------------------------------------\u001b[0m",
      "\u001b[0;31mFileNotFoundError\u001b[0m                         Traceback (most recent call last)",
      "\u001b[0;32m<ipython-input-2-67e103b5c0e0>\u001b[0m in \u001b[0;36m<module>\u001b[0;34m\u001b[0m\n\u001b[1;32m      1\u001b[0m \u001b[0;32mimport\u001b[0m \u001b[0mpickle\u001b[0m\u001b[0;34m\u001b[0m\u001b[0;34m\u001b[0m\u001b[0m\n\u001b[1;32m      2\u001b[0m \u001b[0;34m\u001b[0m\u001b[0m\n\u001b[0;32m----> 3\u001b[0;31m \u001b[0;32mwith\u001b[0m \u001b[0mopen\u001b[0m\u001b[0;34m(\u001b[0m\u001b[0;34m'kana_chars.pickle'\u001b[0m\u001b[0;34m,\u001b[0m \u001b[0mmode\u001b[0m\u001b[0;34m=\u001b[0m\u001b[0;34m'rb'\u001b[0m\u001b[0;34m)\u001b[0m \u001b[0;32mas\u001b[0m \u001b[0mf\u001b[0m\u001b[0;34m:\u001b[0m\u001b[0;34m\u001b[0m\u001b[0;34m\u001b[0m\u001b[0m\n\u001b[0m\u001b[1;32m      4\u001b[0m     \u001b[0mchars_list\u001b[0m \u001b[0;34m=\u001b[0m \u001b[0mpickle\u001b[0m\u001b[0;34m.\u001b[0m\u001b[0mload\u001b[0m\u001b[0;34m(\u001b[0m\u001b[0mf\u001b[0m\u001b[0;34m)\u001b[0m\u001b[0;34m\u001b[0m\u001b[0;34m\u001b[0m\u001b[0m\n\u001b[1;32m      5\u001b[0m \u001b[0mprint\u001b[0m\u001b[0;34m(\u001b[0m\u001b[0mchars_list\u001b[0m\u001b[0;34m)\u001b[0m\u001b[0;34m\u001b[0m\u001b[0;34m\u001b[0m\u001b[0m\n",
      "\u001b[0;31mFileNotFoundError\u001b[0m: [Errno 2] No such file or directory: 'kana_chars.pickle'"
     ]
    }
   ],
   "source": [
    "import pickle\n",
    "\n",
    "with open('kana_chars.pickle', mode='rb') as f:\n",
    "    chars_list = pickle.load(f)\n",
    "print(chars_list)"
   ]
  },
  {
   "cell_type": "markdown",
   "metadata": {},
   "source": [
    "## 文章のベクトル化\n",
    "文章をone-hot表現に変換する関数を設定します。"
   ]
  },
  {
   "cell_type": "code",
   "execution_count": null,
   "metadata": {},
   "outputs": [],
   "source": [
    "import numpy as np\n",
    "\n",
    "# インデックスと文字で辞書を作成\n",
    "char_indices = {}\n",
    "for i, char in enumerate(chars_list):\n",
    "    char_indices[char] = i\n",
    "indices_char = {}\n",
    "for i, char in enumerate(chars_list):\n",
    "    indices_char[i] = char\n",
    "    \n",
    "n_char = len(chars_list)\n",
    "max_length_x = 128\n",
    "\n",
    "# 文章をone-hot表現に変換する関数\n",
    "def sentence_to_vector(sentence):\n",
    "    vector = np.zeros((1, max_length_x, n_char), dtype=np.bool)\n",
    "    for j, char in enumerate(sentence):\n",
    "        vector[0][j][char_indices[char]] = 1\n",
    "    return vector"
   ]
  },
  {
   "cell_type": "markdown",
   "metadata": {},
   "source": [
    "## 返答作成用の関数\n",
    "encoderのモデル、およびdecoderのモデルを読み込み、返答を作成するための関数を設定します。  "
   ]
  },
  {
   "cell_type": "code",
   "execution_count": null,
   "metadata": {},
   "outputs": [],
   "source": [
    "from keras.models import load_model\n",
    "\n",
    "encoder_model = load_model('encoder_model.h5')\n",
    "decoder_model = load_model('decoder_model.h5')\n",
    "\n",
    "def respond(input_data, beta=5):\n",
    "    state_value = encoder_model.predict(input_data)\n",
    "    y_decoder = np.zeros((1, 1, n_char))  # decoderの出力を格納する配列\n",
    "    y_decoder[0][0][char_indices['\\t']] = 1  # decoderの最初の入力はタブ。one-hot表現にする。\n",
    "\n",
    "    respond_sentence = \"\"  # 返答の文字列\n",
    "    while True:\n",
    "        y, h = decoder_model.predict([y_decoder, state_value])\n",
    "        p_power = y[0][0] ** beta  # 確率分布の調整\n",
    "        next_index = np.random.choice(len(p_power), p=p_power/np.sum(p_power)) \n",
    "        next_char = indices_char[next_index]  # 次の文字\n",
    "        \n",
    "        if (next_char == \"\\n\" or len(respond_sentence) >= max_length_x):\n",
    "            break  # 次の文字が改行のとき、もしくは最大文字数を超えたときは終了\n",
    "            \n",
    "        respond_sentence += next_char\n",
    "        y_decoder = np.zeros((1, 1, n_char))  # 次の時刻の入力\n",
    "        y_decoder[0][0][next_index] = 1\n",
    "\n",
    "        state_value = h  # 次の時刻の状態\n",
    "\n",
    "    return respond_sentence"
   ]
  },
  {
   "cell_type": "markdown",
   "metadata": {},
   "source": [
    "## 対話生成の検証\n",
    "コーパスに無い文章を使って、対話生成の検証を行います。"
   ]
  },
  {
   "cell_type": "code",
   "execution_count": null,
   "metadata": {},
   "outputs": [],
   "source": [
    "sentences = [\"けんじさん、こんにちは。\",\n",
    "             \"カムパネラってしってますか？\",\n",
    "             \"ああ、おなかすいた。\",\n",
    "             \"きょうはいいてんきですね。\",\n",
    "             \"すきなたべものは、なんですか。\",\n",
    "             \"きょうは、さんぽにいきました。\",\n",
    "             \"パソコンかスマホは、つかったことありますか？\"]\n",
    "\n",
    "for sentence in sentences:\n",
    "    vector = sentence_to_vector(sentence)\n",
    "    print(\"Input:\", sentence)\n",
    "    print(\"Response\", respond(vector))\n",
    "    print()"
   ]
  },
  {
   "cell_type": "markdown",
   "metadata": {},
   "source": [
    "完璧な回答になっているわけではありませんが、こちらの想像力が刺激されるような返答ですね。  \n",
    "人間が”会話をしている”と感じるためには、必ずしも正確な返答は必要ないのかもしれません。"
   ]
  },
  {
   "cell_type": "markdown",
   "metadata": {},
   "source": [
    "## モデル同士の会話\n",
    "試しに、同じモデル同士に会話をさせてみましょう。"
   ]
  },
  {
   "cell_type": "code",
   "execution_count": null,
   "metadata": {},
   "outputs": [],
   "source": [
    "response_a = \"こんにちは。\"\n",
    "response_b = \"\"\n",
    "for i in range(100):\n",
    "    print(\"賢治A:\", response_a)\n",
    "    print()  \n",
    "    vector_a = sentence_to_vector(response_a)\n",
    "    \n",
    "    response_b = respond(vector_a)\n",
    "    print(\"賢治B:\", response_b)\n",
    "    print()\n",
    "    vector_b = sentence_to_vector(response_b)\n",
    "    \n",
    "    response_a = respond(vector_b)"
   ]
  },
  {
   "cell_type": "markdown",
   "metadata": {},
   "source": [
    "同じモデルを使ったためか、返答が似たような文章になる傾向がありますね。  \n",
    "今回は全く同じモデルを使いましたが、例えば乱歩の文章で訓練したモデルと、賢治のモデルで会話をさせても面白いかもしれません。"
   ]
  },
  {
   "cell_type": "markdown",
   "metadata": {},
   "source": [
    "## さらに自然な会話のために\n",
    "さらに自然な会話ができるモデルを作るためには、例えば以下のようなアプローチが有効かもしれません。\n",
    "\n",
    "* **入力を単語ベクトルにする**  \n",
    "入力をone-hot表現ではなくword2vecなどにより作った単語ベクトルにします。  \n",
    "これにより、入力の次元数が抑えられるだけではなく、単語同士の関係性がSeq2Seqモデルの訓練前にすでに存在することになります。  \n",
    "しかしながら、返答を作成する際に、未知の単語を含む文章の入力に対応するのが難しくなります。  \n",
    "\n",
    "* **コーパスをさらに大きくする**  \n",
    "一般的に、コーパスが大きいほどモデルの汎用性は高まります。  \n",
    "しかしながら、学習に時間がかかるのでGPUの利用が必要になるかもしれません。\n",
    "\n",
    "* **コーパスは対話文のみとする**  \n",
    "今回は宮沢賢治の小説をコーパスにしましたので、対話文以外も多く含んでいます。  \n",
    "しかしながら、用途を対話のみに絞るのであれば対話文のみを用意した方が精度が上がります。  \n",
    "大量の対話文を用意するのは大変ですが、SNS上でのやりとりなどをコーパスとして使うのも一つの手かもしれません。\n",
    "\n",
    "* **最新のアルゴリズムを採用する**  \n",
    "自然言語処理の分野では日々新しい技術が生まれ、論文などで発表されています。  \n",
    "興味のある方は、そのような技術をモデルに取り入れてみましょう。"
   ]
  },
  {
   "cell_type": "markdown",
   "metadata": {},
   "source": [
    "## 課題\n",
    "betaの値を少し変更して、モデル同士に会話をさせてみましょう。"
   ]
  },
  {
   "cell_type": "code",
   "execution_count": null,
   "metadata": {},
   "outputs": [],
   "source": []
  }
 ],
 "metadata": {
  "kernelspec": {
   "name": "python3",
   "display_name": "Python 3.6.13 64-bit ('ai_master': conda)"
  },
  "language_info": {
   "codemirror_mode": {
    "name": "ipython",
    "version": 3
   },
   "file_extension": ".py",
   "mimetype": "text/x-python",
   "name": "python",
   "nbconvert_exporter": "python",
   "pygments_lexer": "ipython3",
   "version": "3.6.13"
  },
  "interpreter": {
   "hash": "ae40c206682057e3940821881872b7c1fd04ffd4d47fe0e3130e8e306ce46b5b"
  }
 },
 "nbformat": 4,
 "nbformat_minor": 2
}